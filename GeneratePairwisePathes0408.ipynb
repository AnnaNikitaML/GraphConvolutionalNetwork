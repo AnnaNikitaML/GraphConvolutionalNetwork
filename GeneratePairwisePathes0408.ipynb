{
 "cells": [
  {
   "cell_type": "code",
   "execution_count": 13,
   "metadata": {},
   "outputs": [],
   "source": [
    "import numpy as np"
   ]
  },
  {
   "cell_type": "code",
   "execution_count": 22,
   "metadata": {},
   "outputs": [],
   "source": [
    "from BFS import BFS, BFSmulti"
   ]
  },
  {
   "cell_type": "code",
   "execution_count": 15,
   "metadata": {},
   "outputs": [
    {
     "name": "stdout",
     "output_type": "stream",
     "text": [
      "['traintestadj.pkl', 'distances.pkl', 'magnetic_shielding_tensors.pkl', 'traintestpathfixed.pkl', 'df_graph_fixed.pkl', 'test.pkl', 'traintest.pkl', 'dipole_moments.pkl', 'structures_reindexed.pkl', 'lengthes_4.pkl', 'train_contrib.pkl', 'df_graph.pkl', 'train.pkl', 'potential_energy.pkl', 'struc_and_dist.pkl', 'structures.pkl', 'traintestpath.pkl', 'dist_df.pkl', 'mulliken_charges.pkl', 'traintestadjfixed.pkl']\n"
     ]
    }
   ],
   "source": [
    "import tqdm\n",
    "import pandas as pd\n",
    "import matplotlib.pyplot as plt\n",
    "%matplotlib inline\n",
    "\n",
    "import numpy as np\n",
    "import os\n",
    "from mpl_toolkits import mplot3d\n",
    "from mpl_toolkits.mplot3d import Axes3D\n",
    "bond_types = ['1JHC', '1JHN', '2JHC', '2JHH', '2JHN', '3JHC', '3JHH', '3JHN']\n",
    "pickles = [i for i in os.listdir('data') if \".pkl\" in i]\n",
    "#dfs = {i[:-4] : pd.read_pickle('data/'+i) for i in pickles}\n",
    "#print (\"\\t\".join(dfs.keys()))\n",
    "print (pickles)"
   ]
  },
  {
   "cell_type": "code",
   "execution_count": 16,
   "metadata": {},
   "outputs": [],
   "source": [
    "traintest = pd.read_pickle('data/traintest.pkl')\n",
    "\n",
    "df_graph = pd.read_pickle('data/df_graph_fixed.pkl')"
   ]
  },
  {
   "cell_type": "code",
   "execution_count": 16,
   "metadata": {},
   "outputs": [],
   "source": [
    "#traintest = pd.concat((train, test), sort=False)"
   ]
  },
  {
   "cell_type": "code",
   "execution_count": 19,
   "metadata": {},
   "outputs": [],
   "source": [
    "#traintest.to_pickle('data/traintest.pkl')"
   ]
  },
  {
   "cell_type": "code",
   "execution_count": 17,
   "metadata": {},
   "outputs": [],
   "source": [
    "AdjMatrix = df_graph.AdjMatrix.loc[traintest.molecule_name]"
   ]
  },
  {
   "cell_type": "code",
   "execution_count": 18,
   "metadata": {},
   "outputs": [],
   "source": [
    "traintest['AdjMatrix'] = AdjMatrix.values"
   ]
  },
  {
   "cell_type": "code",
   "execution_count": 20,
   "metadata": {},
   "outputs": [],
   "source": [
    "traintest.to_pickle('data/traintestadjfixed.pkl')"
   ]
  },
  {
   "cell_type": "code",
   "execution_count": 21,
   "metadata": {},
   "outputs": [
    {
     "name": "stdout",
     "output_type": "stream",
     "text": [
      "CPU times: user 23min 35s, sys: 2min 9s, total: 25min 44s\n",
      "Wall time: 22min 56s\n"
     ]
    }
   ],
   "source": [
    "%%time\n",
    "traintestpath=traintest.apply(lambda x: BFS(x.AdjMatrix, x.atom_index_0, x.atom_index_1), axis=1)\n",
    "traintestpath.to_pickle('data/traintestpathfixed.pkl')"
   ]
  },
  {
   "cell_type": "code",
   "execution_count": null,
   "metadata": {},
   "outputs": [],
   "source": [
    "uniq = np.unique(traintestpath.values)"
   ]
  },
  {
   "cell_type": "code",
   "execution_count": 2,
   "metadata": {},
   "outputs": [],
   "source": [
    "traintestpath = dfs['traintestpath']"
   ]
  },
  {
   "cell_type": "code",
   "execution_count": 6,
   "metadata": {},
   "outputs": [
    {
     "data": {
      "text/plain": [
       "4"
      ]
     },
     "execution_count": 6,
     "metadata": {},
     "output_type": "execute_result"
    }
   ],
   "source": [
    "np.max( [len(x) for x in traintestpath])"
   ]
  },
  {
   "cell_type": "code",
   "execution_count": 5,
   "metadata": {},
   "outputs": [
    {
     "data": {
      "text/plain": [
       "2"
      ]
     },
     "execution_count": 5,
     "metadata": {},
     "output_type": "execute_result"
    }
   ],
   "source": [
    "np.min( [len(x) for x in traintestpath])"
   ]
  },
  {
   "cell_type": "code",
   "execution_count": 26,
   "metadata": {},
   "outputs": [],
   "source": [
    "from importlib import reload "
   ]
  },
  {
   "cell_type": "code",
   "execution_count": 29,
   "metadata": {},
   "outputs": [],
   "source": [
    "import BFS"
   ]
  },
  {
   "cell_type": "code",
   "execution_count": 28,
   "metadata": {},
   "outputs": [
    {
     "ename": "TypeError",
     "evalue": "reload() argument must be a module",
     "output_type": "error",
     "traceback": [
      "\u001b[0;31m---------------------------------------------------------------------------\u001b[0m",
      "\u001b[0;31mTypeError\u001b[0m                                 Traceback (most recent call last)",
      "\u001b[0;32m<ipython-input-28-74df88487467>\u001b[0m in \u001b[0;36m<module>\u001b[0;34m()\u001b[0m\n\u001b[0;32m----> 1\u001b[0;31m \u001b[0mreload\u001b[0m\u001b[0;34m(\u001b[0m\u001b[0mBFSmulti\u001b[0m\u001b[0;34m)\u001b[0m\u001b[0;34m\u001b[0m\u001b[0;34m\u001b[0m\u001b[0m\n\u001b[0m",
      "\u001b[0;32m~/tfenv/lib/python3.6/importlib/__init__.py\u001b[0m in \u001b[0;36mreload\u001b[0;34m(module)\u001b[0m\n\u001b[1;32m    137\u001b[0m     \"\"\"\n\u001b[1;32m    138\u001b[0m     \u001b[0;32mif\u001b[0m \u001b[0;32mnot\u001b[0m \u001b[0mmodule\u001b[0m \u001b[0;32mor\u001b[0m \u001b[0;32mnot\u001b[0m \u001b[0misinstance\u001b[0m\u001b[0;34m(\u001b[0m\u001b[0mmodule\u001b[0m\u001b[0;34m,\u001b[0m \u001b[0mtypes\u001b[0m\u001b[0;34m.\u001b[0m\u001b[0mModuleType\u001b[0m\u001b[0;34m)\u001b[0m\u001b[0;34m:\u001b[0m\u001b[0;34m\u001b[0m\u001b[0;34m\u001b[0m\u001b[0m\n\u001b[0;32m--> 139\u001b[0;31m         \u001b[0;32mraise\u001b[0m \u001b[0mTypeError\u001b[0m\u001b[0;34m(\u001b[0m\u001b[0;34m\"reload() argument must be a module\"\u001b[0m\u001b[0;34m)\u001b[0m\u001b[0;34m\u001b[0m\u001b[0;34m\u001b[0m\u001b[0m\n\u001b[0m\u001b[1;32m    140\u001b[0m     \u001b[0;32mtry\u001b[0m\u001b[0;34m:\u001b[0m\u001b[0;34m\u001b[0m\u001b[0;34m\u001b[0m\u001b[0m\n\u001b[1;32m    141\u001b[0m         \u001b[0mname\u001b[0m \u001b[0;34m=\u001b[0m \u001b[0mmodule\u001b[0m\u001b[0;34m.\u001b[0m\u001b[0m__spec__\u001b[0m\u001b[0;34m.\u001b[0m\u001b[0mname\u001b[0m\u001b[0;34m\u001b[0m\u001b[0;34m\u001b[0m\u001b[0m\n",
      "\u001b[0;31mTypeError\u001b[0m: reload() argument must be a module"
     ]
    }
   ],
   "source": [
    "reload(BFSmulti)"
   ]
  },
  {
   "cell_type": "code",
   "execution_count": 31,
   "metadata": {},
   "outputs": [],
   "source": [
    "import numpy as np\n",
    "import queue\n",
    "\n",
    "def BFSmulti(A, start_idx, end_idx):  #A = adjacency matrix\n",
    "    q = queue.deque()\n",
    "    q.append(start_idx)\n",
    "    predecessors = [ [] for _ in range(A.shape[0]) ]\n",
    "    distfromstart = np.zeros(A.shape[0], dtype=np.int32) + 99999\n",
    "    predecessors[start_idx].append(start_idx)\n",
    "    distfromstart[start_idx] = 0\n",
    "    while (len(q)):\n",
    "        current_idx = q.popleft()\n",
    "        for next_idx in np.argwhere(A[current_idx]):  #returns list of lists of single value\n",
    "            if len(predecessors[next_idx[0]]) == 0:\n",
    "                q.append(next_idx[0])\n",
    "                predecessors[next_idx[0]].append(current_idx)\n",
    "                distfromstart[next_idx[0]] = distfromstart[current_idx] + 1\n",
    "            elif (distfromstart[next_idx[0]] == distfromstart[current_idx] + 1):\n",
    "                predecessors[next_idx[0]].append(current_idx)\n",
    "                \n",
    "    if len(predecessors[end_idx]) == 0:\n",
    "        return None\n",
    "    \n",
    "    def give_pathes(ending, ind):\n",
    "        if ind == start_idx:\n",
    "            return [ending + [ind]]\n",
    "        ret_list = []\n",
    "        for pred_ind in predecessors[ind]:\n",
    "            ret_list += give_pathes(ending + [ind], pred_ind)\n",
    "        return ret_list\n",
    "    \n",
    "    return [list(reversed (l)) for l in give_pathes([], end_idx)]"
   ]
  },
  {
   "cell_type": "code",
   "execution_count": 32,
   "metadata": {},
   "outputs": [
    {
     "name": "stdout",
     "output_type": "stream",
     "text": [
      "CPU times: user 34min 45s, sys: 8min 21s, total: 43min 6s\n",
      "Wall time: 32min 4s\n"
     ]
    }
   ],
   "source": [
    "%%time\n",
    "traintestpath=traintest.apply(lambda x: BFSmulti(x.AdjMatrix, x.atom_index_0, x.atom_index_1), axis=1)\n",
    "traintestpath.to_pickle('data/traintestpathmulti.pkl')"
   ]
  },
  {
   "cell_type": "code",
   "execution_count": null,
   "metadata": {},
   "outputs": [],
   "source": []
  }
 ],
 "metadata": {
  "kernelspec": {
   "display_name": "Python 3",
   "language": "python",
   "name": "python3"
  },
  "language_info": {
   "codemirror_mode": {
    "name": "ipython",
    "version": 3
   },
   "file_extension": ".py",
   "mimetype": "text/x-python",
   "name": "python",
   "nbconvert_exporter": "python",
   "pygments_lexer": "ipython3",
   "version": "3.6.9"
  }
 },
 "nbformat": 4,
 "nbformat_minor": 2
}
